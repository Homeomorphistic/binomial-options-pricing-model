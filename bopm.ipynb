{
 "cells": [
  {
   "cell_type": "code",
   "execution_count": 1,
   "id": "50c59cc5-4cdf-4403-8f0f-f461005cde7b",
   "metadata": {},
   "outputs": [],
   "source": [
    "import binomial_options_pricing_model.bopm as bopm"
   ]
  },
  {
   "cell_type": "code",
   "execution_count": 4,
   "id": "b0b65464-b752-4891-988c-e33e91c12c9f",
   "metadata": {},
   "outputs": [
    {
     "data": {
      "text/plain": [
       "10.191184966938744"
      ]
     },
     "execution_count": 4,
     "metadata": {},
     "output_type": "execute_result"
    }
   ],
   "source": [
    "r, S, K, delta_t, T, sigma = .02, 50, 48, 1/12, 2, .3\n",
    "v, h = bopm.crr_price_option(r, S, K, delta_t, T, sigma)\n",
    "v"
   ]
  }
 ],
 "metadata": {
  "kernelspec": {
   "display_name": "Python 3 (ipykernel)",
   "language": "python",
   "name": "python3"
  },
  "language_info": {
   "codemirror_mode": {
    "name": "ipython",
    "version": 3
   },
   "file_extension": ".py",
   "mimetype": "text/x-python",
   "name": "python",
   "nbconvert_exporter": "python",
   "pygments_lexer": "ipython3",
   "version": "3.10.12"
  }
 },
 "nbformat": 4,
 "nbformat_minor": 5
}
