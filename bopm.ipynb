{
 "cells": [
  {
   "cell_type": "code",
   "execution_count": 1,
   "id": "ebc7588c-0b13-428e-95b8-536ad2270bd2",
   "metadata": {},
   "outputs": [],
   "source": [
    "#! pip install ipywidgets"
   ]
  },
  {
   "cell_type": "code",
   "execution_count": 12,
   "id": "ef4f4041-394f-425b-a521-3b366fb74a58",
   "metadata": {},
   "outputs": [],
   "source": [
    "from ipywidgets import interact, fixed\n",
    "from ipywidgets.widgets import FloatRangeSlider, IntRangeSlider"
   ]
  },
  {
   "cell_type": "code",
   "execution_count": 3,
   "id": "50c59cc5-4cdf-4403-8f0f-f461005cde7b",
   "metadata": {},
   "outputs": [],
   "source": [
    "import numpy as np\n",
    "import matplotlib.pyplot as plt\n",
    "\n",
    "import binomial_options_pricing_model.bopm as bopm"
   ]
  },
  {
   "cell_type": "code",
   "execution_count": 13,
   "id": "854645cb-10e9-408c-951c-551102e89acb",
   "metadata": {},
   "outputs": [],
   "source": [
    "risk_free_rate_slider = FloatRangeSlider(value=(0.01, 0.25), step=0.01, min=0.01, max=0.25, description='Risk-free rate:')\n",
    "spot_price_slider = FloatRangeSlider(value=(40, 60), step=0.5, min=40, max=60, description='Spot price:')\n",
    "strike_slider = FloatRangeSlider(value=(40, 60), step=0.5, min=40, max=60, description='Strike price:')\n",
    "sigma_slider = FloatRangeSlider(value=(0.1, 0.5), step=0.05, min=0.01, max=0.5, description='Volatility:')\n",
    "maturity_slider = IntRangeSlider(value=(1, 36), min=1, max=36, description='Maturity (in months):')"
   ]
  },
  {
   "cell_type": "code",
   "execution_count": 14,
   "id": "b0b65464-b752-4891-988c-e33e91c12c9f",
   "metadata": {},
   "outputs": [],
   "source": [
    "r, S, K, delta_t, T, sigma = .02, 50, 48, 1/12, 2, .3\n",
    "\n",
    "def v_r(r, american = False, call = True):\n",
    "    n = len(r)\n",
    "    V = np.zeros(n)\n",
    "    for i in range(n):\n",
    "        V[i], _ = bopm.crr_price_option(r[i], S, K, delta_t, T, sigma, american, call)   \n",
    "    return V\n",
    "\n",
    "def v_s(S, american = False, call = True):\n",
    "    n = len(S)\n",
    "    V = np.zeros(n)\n",
    "    for i in range(n):\n",
    "        V[i], _ = bopm.crr_price_option(r, S[i], K, delta_t, T, sigma, american, call)   \n",
    "    return V\n",
    "\n",
    "def v_k(K, american = False, call = True):\n",
    "    n = len(K)\n",
    "    V = np.zeros(n)\n",
    "    for i in range(n):\n",
    "        V[i], _ = bopm.crr_price_option(r, S, K[i], delta_t, T, sigma, american, call)   \n",
    "    return V\n",
    "\n",
    "def v_sigma(sigma, american = False, call = True):\n",
    "    n = len(sigma)\n",
    "    V = np.zeros(n)\n",
    "    for i in range(n):\n",
    "        V[i], _ = bopm.crr_price_option(r, S, K, delta_t, T, sigma[i], american, call)   \n",
    "    return V\n",
    "\n",
    "def v_t(T, american = False, call = True):\n",
    "    n = len(T)\n",
    "    V = np.zeros(n)\n",
    "    for i in range(n):\n",
    "        V[i], _ = bopm.crr_price_option(r, S, K, delta_t, T[i], sigma, american, call)   \n",
    "    return V"
   ]
  },
  {
   "cell_type": "code",
   "execution_count": 16,
   "id": "0ce03ba3-c7a8-4997-8376-a6e2dc2f10ab",
   "metadata": {},
   "outputs": [
    {
     "data": {
      "application/vnd.jupyter.widget-view+json": {
       "model_id": "0f14ea3719db4d5eb5e4f1c446d969e4",
       "version_major": 2,
       "version_minor": 0
      },
      "text/plain": [
       "interactive(children=(FloatRangeSlider(value=(0.01, 0.25), description='Risk-free rate:', max=0.25, min=0.01, …"
      ]
     },
     "metadata": {},
     "output_type": "display_data"
    },
    {
     "data": {
      "application/vnd.jupyter.widget-view+json": {
       "model_id": "8d7cd97fe4ba4151916e06c65160683a",
       "version_major": 2,
       "version_minor": 0
      },
      "text/plain": [
       "interactive(children=(FloatRangeSlider(value=(40.0, 60.0), description='Spot price:', max=60.0, min=40.0, step…"
      ]
     },
     "metadata": {},
     "output_type": "display_data"
    },
    {
     "data": {
      "application/vnd.jupyter.widget-view+json": {
       "model_id": "23f1e6ace61e44dea54fc0e9f03c856a",
       "version_major": 2,
       "version_minor": 0
      },
      "text/plain": [
       "interactive(children=(FloatRangeSlider(value=(40.0, 60.0), description='Strike price:', max=60.0, min=40.0, st…"
      ]
     },
     "metadata": {},
     "output_type": "display_data"
    },
    {
     "data": {
      "application/vnd.jupyter.widget-view+json": {
       "model_id": "7ff03cde88734d909c257a5d5905fc86",
       "version_major": 2,
       "version_minor": 0
      },
      "text/plain": [
       "interactive(children=(FloatRangeSlider(value=(0.11, 0.5), description='Volatility:', max=0.5, min=0.01, step=0…"
      ]
     },
     "metadata": {},
     "output_type": "display_data"
    },
    {
     "data": {
      "application/vnd.jupyter.widget-view+json": {
       "model_id": "56bd397405614644a578d7871c654a9e",
       "version_major": 2,
       "version_minor": 0
      },
      "text/plain": [
       "interactive(children=(IntRangeSlider(value=(1, 36), description='Maturity (in months):', max=36, min=1), Outpu…"
      ]
     },
     "metadata": {},
     "output_type": "display_data"
    },
    {
     "data": {
      "text/plain": [
       "<function __main__.plot_crr(v_func, param_slider, x_lab, is_time_param=False)>"
      ]
     },
     "execution_count": 16,
     "metadata": {},
     "output_type": "execute_result"
    }
   ],
   "source": [
    "def plot_crr(v_func, param_slider, x_lab, is_time_param = False):\n",
    "    if not is_time_param:\n",
    "        param = np.linspace(*param_slider)\n",
    "    else:\n",
    "        param = (np.arange(*param_slider)+1)/12\n",
    "        \n",
    "    V_eu_call = v_func(param, american=False, call=True)\n",
    "    V_eu_put = v_func(param, american=False, call=False)\n",
    "    V_am_call = v_func(param, american=True, call=True)\n",
    "    V_am_put = v_func(param, american=True, call=False)\n",
    "    \n",
    "    plt.plot(param, V_eu_call, color=\"blue\", linestyle=\"dashed\")\n",
    "    plt.plot(param, V_eu_put, color=\"blue\", linestyle=\"dashed\")\n",
    "    plt.plot(param, V_am_call, color=\"red\")\n",
    "    plt.plot(param, V_am_put, color=\"red\")\n",
    "    \n",
    "    plt.legend([\"EU call\", \"EU put\", \"AM call\", \"AM put\"])\n",
    "    plt.xlabel(x_lab)\n",
    "    plt.ylabel(\"Option value V\")\n",
    "    plt.show()\n",
    "\n",
    "interact(plot_crr, v_func=fixed(v_r), param_slider=risk_free_rate_slider, x_lab=fixed(\"Risk-free rate r\"), is_time_param=fixed(False))\n",
    "interact(plot_crr, v_func=fixed(v_s), param_slider=spot_price_slider, x_lab=fixed(\"Spot price $S_0$\"), is_time_param=fixed(False))\n",
    "interact(plot_crr, v_func=fixed(v_k), param_slider=strike_slider, x_lab=fixed(\"Strike price K\"), is_time_param=fixed(False))\n",
    "interact(plot_crr, v_func=fixed(v_sigma), param_slider=sigma_slider, x_lab=fixed(\"Volatility $\\sigma$\"), is_time_param=fixed(False))\n",
    "interact(plot_crr, v_func=fixed(v_t), param_slider=maturity_slider, x_lab=fixed(\"Maturity T (in months)\"), is_time_param=fixed(True))"
   ]
  },
  {
   "cell_type": "code",
   "execution_count": null,
   "id": "a42685f7-31f5-4544-9f50-b56ebbd1af92",
   "metadata": {},
   "outputs": [],
   "source": []
  },
  {
   "cell_type": "code",
   "execution_count": null,
   "id": "b1d921df-97d8-42d0-9246-ae471153e408",
   "metadata": {},
   "outputs": [],
   "source": []
  }
 ],
 "metadata": {
  "kernelspec": {
   "display_name": "Python 3 (ipykernel)",
   "language": "python",
   "name": "python3"
  },
  "language_info": {
   "codemirror_mode": {
    "name": "ipython",
    "version": 3
   },
   "file_extension": ".py",
   "mimetype": "text/x-python",
   "name": "python",
   "nbconvert_exporter": "python",
   "pygments_lexer": "ipython3",
   "version": "3.10.12"
  }
 },
 "nbformat": 4,
 "nbformat_minor": 5
}
