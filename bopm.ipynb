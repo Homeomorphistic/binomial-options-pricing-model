{
 "cells": [
  {
   "cell_type": "code",
   "execution_count": 1,
   "id": "ebc7588c-0b13-428e-95b8-536ad2270bd2",
   "metadata": {},
   "outputs": [],
   "source": [
    "#! pip install ipywidgets"
   ]
  },
  {
   "cell_type": "code",
   "execution_count": 2,
   "id": "ef4f4041-394f-425b-a521-3b366fb74a58",
   "metadata": {},
   "outputs": [],
   "source": [
    "from ipywidgets import interact, fixed\n",
    "from ipywidgets.widgets import FloatRangeSlider, IntRangeSlider, FloatSlider"
   ]
  },
  {
   "cell_type": "code",
   "execution_count": 3,
   "id": "50c59cc5-4cdf-4403-8f0f-f461005cde7b",
   "metadata": {},
   "outputs": [],
   "source": [
    "import numpy as np\n",
    "import matplotlib.pyplot as plt\n",
    "\n",
    "import binomial_options_pricing_model.bopm as bopm"
   ]
  },
  {
   "cell_type": "code",
   "execution_count": 35,
   "id": "854645cb-10e9-408c-951c-551102e89acb",
   "metadata": {},
   "outputs": [],
   "source": [
    "r_slider = FloatSlider(value=.02, step=0.01, min=0, max=0.25, description='Risk-free rate:')\n",
    "S_slider = FloatSlider(value=50, step=0.5, min=40, max=60, description='Spot price:')\n",
    "K_slider = FloatSlider(value=48, step=0.5, min=40, max=60, description='Strike price:')\n",
    "delta_t_slider = FloatSlider(value=1/12, step=0.05, min=1/365, max=1, description='Time step (in years):')\n",
    "T_slider = FloatSlider(value=2, min=0.5, max=10, description='Maturity (in years):')\n",
    "sigma_slider = FloatSlider(value=.3, step=0.05, min=0, max=1, description='Volatility:')\n",
    "domain_range_slider = FloatRangeSlider(value=(0.8, 1.2), step=0.1, min=0.1, max=3, description='Domain:')"
   ]
  },
  {
   "cell_type": "code",
   "execution_count": 12,
   "id": "b0b65464-b752-4891-988c-e33e91c12c9f",
   "metadata": {},
   "outputs": [],
   "source": [
    "r, S, K, delta_t, T, sigma = .02, 50, 48, 1/12, 2, .3\n",
    "r = r_slider.value\n",
    "S = S_slider.value\n",
    "K = K_slider.value\n",
    "delta_t = delta_t_slider.value\n",
    "T = T_slider.value\n",
    "sigma = sigma_slider.value\n",
    "\n",
    "def v_r(r, american = False, call = True):\n",
    "    n = len(r)\n",
    "    V = np.zeros(n)\n",
    "    for i in range(n):\n",
    "        V[i], _ = bopm.crr_price_option(r[i], S_slider.value, K_slider.value, delta_t_slider.value,\n",
    "                                        T_slider.value, sigma_slider.value, american, call)   \n",
    "    return V\n",
    "\n",
    "def v_s(S, american = False, call = True):\n",
    "    n = len(S)\n",
    "    V = np.zeros(n)\n",
    "    for i in range(n):\n",
    "        V[i], _ = bopm.crr_price_option(r_slider.value, S[i], K_slider.value, delta_t_slider.value,\n",
    "                                        T_slider.value, sigma_slider.value, american, call) \n",
    "    return V\n",
    "\n",
    "def v_k(K, american = False, call = True):\n",
    "    n = len(K)\n",
    "    V = np.zeros(n)\n",
    "    for i in range(n):\n",
    "        V[i], _ = bopm.crr_price_option(r_slider.value, S_slider.value, K[i], delta_t_slider.value,\n",
    "                                        T_slider.value, sigma_slider.value, american, call)\n",
    "    return V\n",
    "\n",
    "def v_delta_t(delta_t, american = False, call = True):\n",
    "    n = len(delta_t)\n",
    "    V = np.zeros(n)\n",
    "    for i in range(n):\n",
    "        V[i], _ = bopm.crr_price_option(r_slider.value, S_slider.value, K_slider.value, delta_t[i],\n",
    "                                        T_slider.value, sigma_slider.value, american, call)  \n",
    "    return V\n",
    "def v_t(T, american = False, call = True):\n",
    "    n = len(T)\n",
    "    V = np.zeros(n)\n",
    "    for i in range(n):\n",
    "        V[i], _ = bopm.crr_price_option(r_slider.value, S_slider.value, K_slider.value, delta_t_slider.value,\n",
    "                                        T[i], sigma_slider.value, american, call)   \n",
    "    return V\n",
    "    \n",
    "def v_sigma(sigma, american = False, call = True):\n",
    "    n = len(sigma)\n",
    "    V = np.zeros(n)\n",
    "    for i in range(n):\n",
    "        V[i], _ = bopm.crr_price_option(r_slider.value, S_slider.value, K_slider.value, delta_t_slider.value,\n",
    "                                        T_slider.value, sigma[i], american, call)  \n",
    "    return V"
   ]
  },
  {
   "cell_type": "code",
   "execution_count": 36,
   "id": "a42685f7-31f5-4544-9f50-b56ebbd1af92",
   "metadata": {},
   "outputs": [],
   "source": [
    "def plot_crr(r, S, K, delta_t, T, sigma, domain):\n",
    "    figure, axis = plt.subplots(2, 3) \n",
    "\n",
    "    params = [r, S, K, delta_t, T, sigma]\n",
    "    v_functions = [v_r, v_s, v_k, v_delta_t, v_t, v_sigma]\n",
    "    x_labels = [\"risk-free rate r\", \"spot price $S_0$\", \"strike price K\",\n",
    "               \"time step $\\Delta t$\", \"maturity T\", \"volatility $\\sigma$\"]\n",
    "    \n",
    "    for i in range(len(params)):\n",
    "        param = params[i]\n",
    "        v_func = v_functions[i]\n",
    "        param = np.linspace(domain[0]*param, domain[1]*param)\n",
    "            \n",
    "        V_eu_call = v_func(param, american=False, call=True)\n",
    "        V_eu_put = v_func(param, american=False, call=False)\n",
    "        #V_am_call = v_func(param, american=True, call=True) AM CALL = EU CALL\n",
    "        V_am_put = v_func(param, american=True, call=False)\n",
    "    \n",
    "        axis[i%2, (i)%3].plot(param, V_eu_call, color=\"blue\")\n",
    "        axis[i%2, (i)%3].plot(param, V_eu_put, color=\"red\")\n",
    "        #axis[i%2, (i)%3].plot(param, V_am_call, color=\"blue\")\n",
    "        axis[i%2, (i)%3].plot(param, V_am_put, color=\"red\", linestyle=\"dashed\")\n",
    "    \n",
    "        axis[i%2, (i)%3].set_xlabel(x_labels[i])\n",
    "        axis[i%2, (i)%3].set_ylabel(\"Option value V\")\n",
    "        axis[i%2, (i)%3].legend([\"EU=AM call\", \"EU put\", \"AM put\"])\n",
    "\n",
    "    plt.plot()"
   ]
  },
  {
   "cell_type": "code",
   "execution_count": 37,
   "id": "09ddba65-5669-4426-a4c2-357963d3ff4f",
   "metadata": {},
   "outputs": [
    {
     "data": {
      "application/vnd.jupyter.widget-view+json": {
       "model_id": "43e05ae1f95a4dc182b2cdc65fa4e181",
       "version_major": 2,
       "version_minor": 0
      },
      "text/plain": [
       "interactive(children=(FloatSlider(value=0.02, description='Risk-free rate:', max=0.25, step=0.01), FloatSlider…"
      ]
     },
     "metadata": {},
     "output_type": "display_data"
    }
   ],
   "source": [
    "interact(plot_crr, r=r_slider, S=S_slider, K=K_slider, delta_t=delta_t_slider, T=T_slider, sigma=sigma_slider, domain=domain_range_slider)\n",
    "plt.rcParams['figure.figsize'] = [15, 10]"
   ]
  }
 ],
 "metadata": {
  "kernelspec": {
   "display_name": "Python 3 (ipykernel)",
   "language": "python",
   "name": "python3"
  },
  "language_info": {
   "codemirror_mode": {
    "name": "ipython",
    "version": 3
   },
   "file_extension": ".py",
   "mimetype": "text/x-python",
   "name": "python",
   "nbconvert_exporter": "python",
   "pygments_lexer": "ipython3",
   "version": "3.10.12"
  }
 },
 "nbformat": 4,
 "nbformat_minor": 5
}
