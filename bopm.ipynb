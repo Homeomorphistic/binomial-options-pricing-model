{
 "cells": [
  {
   "cell_type": "code",
   "execution_count": 1,
   "id": "ebc7588c-0b13-428e-95b8-536ad2270bd2",
   "metadata": {},
   "outputs": [],
   "source": [
    "# Install widgets package if missing.\n",
    "#! pip install ipywidgets"
   ]
  },
  {
   "cell_type": "code",
   "execution_count": 2,
   "id": "ef4f4041-394f-425b-a521-3b366fb74a58",
   "metadata": {},
   "outputs": [],
   "source": [
    "# Import sliders, which will be used in interactive charts.\n",
    "from ipywidgets import interact, fixed\n",
    "from ipywidgets.widgets import FloatRangeSlider, IntRangeSlider, FloatSlider"
   ]
  },
  {
   "cell_type": "code",
   "execution_count": 3,
   "id": "50c59cc5-4cdf-4403-8f0f-f461005cde7b",
   "metadata": {},
   "outputs": [],
   "source": [
    "import numpy as np\n",
    "import matplotlib.pyplot as plt\n",
    "\n",
    "import binomial_options_pricing_model.bopm as bopm"
   ]
  },
  {
   "cell_type": "code",
   "execution_count": 4,
   "id": "854645cb-10e9-408c-951c-551102e89acb",
   "metadata": {},
   "outputs": [],
   "source": [
    "# Slider for each parameter of the BOPM model.\n",
    "# Here you can change min/max of the parameter. Also step of the slider.\n",
    "r_slider = FloatSlider(value=.02, step=0.01, min=0, max=0.25, description='Risk-free rate:')\n",
    "S_slider = FloatSlider(value=50, step=0.5, min=40, max=60, description='Spot price:')\n",
    "K_slider = FloatSlider(value=48, step=0.5, min=40, max=60, description='Strike price:')\n",
    "delta_t_slider = FloatSlider(value=1/12, step=0.05, min=1/365, max=1, description='Time step (in years):')\n",
    "T_slider = FloatSlider(value=2, min=0.5, max=10, description='Maturity (in years):')\n",
    "sigma_slider = FloatSlider(value=.3, step=0.05, min=0, max=1, description='Volatility:')\n",
    "\n",
    "# Slider for the range of the domain (in plots) of parameters. \n",
    "# It's an interval [domain[0]*param, domain[1]*param].\n",
    "domain_range_slider = FloatRangeSlider(value=(0.8, 1.2), step=0.1, min=0.1, max=3, description='Domain:')"
   ]
  },
  {
   "cell_type": "markdown",
   "id": "e03f1821-2038-4e11-914b-74befbaafe24",
   "metadata": {},
   "source": [
    "# One-dimensional slices\n",
    "Price of an option is a multivariable function:\n",
    "$ V \\left( r, S_0, K, \\Delta t, T, \\sigma \\right) $.\n",
    "\n",
    "First step in analizing price of an option is to look at one-dimensional slices of price function. \n",
    "\n",
    "Below I'm constructing functions used later for plotting: $V_r(r)$, $V_{S_0}(S_0)$, $V_K(K)$, $V_{\\Delta t}(\\Delta t)$, $V_T(T)$, $V_{\\sigma}(\\sigma)$."
   ]
  },
  {
   "cell_type": "code",
   "execution_count": 5,
   "id": "b0b65464-b752-4891-988c-e33e91c12c9f",
   "metadata": {},
   "outputs": [],
   "source": [
    "# One-dimensional slices of the price function.\n",
    "\n",
    "# They are vectorized (a loop), for easy plotting later.\n",
    "# Default values of constant parameters are taken from the sliders.\n",
    "# This way, each plot will change after change in one parameter.\n",
    "\n",
    "from typing import Callable\n",
    "def vectorize(func: Callable, arg: np.ndarray) -> np.ndarray:\n",
    "    \"\"\"Vectorize a function which takes only one scalar argument.\n",
    "\n",
    "    Loop over arg and obtain return for each iteraton. Return it\n",
    "    as a vector.\n",
    "    \n",
    "    :param func: a function which takes only one scalar argument.\n",
    "    :param arg: a vector of arguments of func.\n",
    "    :returns: a vector of returns of func.\n",
    "    \"\"\"\n",
    "    n = len(arg)\n",
    "    V = np.zeros(n)\n",
    "    for i in range(n):\n",
    "        V[i] = func(arg[i])\n",
    "    return V\n",
    "\n",
    "def v_r(r: np.ndarray, american = False, call = True) -> np.ndarray:\n",
    "    func = lambda arg: bopm.crr_price_option(arg, S_slider.value, K_slider.value,\n",
    "                                             delta_t_slider.value,T_slider.value,\n",
    "                                             sigma_slider.value, american, call)[0]\n",
    "    return vectorize(func, r)\n",
    "\n",
    "def v_s(S: np.ndarray, american = False, call = True) -> np.ndarray:\n",
    "    func = lambda arg: bopm.crr_price_option(r_slider.value, arg, K_slider.value,\n",
    "                                             delta_t_slider.value,T_slider.value,\n",
    "                                             sigma_slider.value, american, call)[0]\n",
    "    return vectorize(func, S)\n",
    "\n",
    "def v_k(K: np.ndarray, american = False, call = True) -> np.ndarray:\n",
    "    func = lambda arg: bopm.crr_price_option(r_slider.value, S_slider.value, arg,\n",
    "                                             delta_t_slider.value,T_slider.value,\n",
    "                                             sigma_slider.value, american, call)[0]\n",
    "    return vectorize(func, K)\n",
    "\n",
    "def v_delta_t(delta_t: np.ndarray, american = False, call = True) -> np.ndarray:\n",
    "    func = lambda arg: bopm.crr_price_option(r_slider.value, S_slider.value, K_slider.value,\n",
    "                                               arg, T_slider.value,\n",
    "                                               sigma_slider.value, american, call)[0]\n",
    "    return vectorize(func, delta_t)\n",
    "    \n",
    "def v_t(T: np.ndarray, american = False, call = True) -> np.ndarray:\n",
    "    func = lambda arg: bopm.crr_price_option(r_slider.value, S_slider.value, K_slider.value,\n",
    "                                             delta_t_slider.value, arg,\n",
    "                                             sigma_slider.value, american, call)[0]\n",
    "    return vectorize(func, T)\n",
    "    \n",
    "def v_sigma(sigma: np.ndarray, american = False, call = True) -> np.ndarray:\n",
    "    func = lambda arg: bopm.crr_price_option(r_slider.value, S_slider.value, K_slider.value,\n",
    "                                             delta_t_slider.value,T_slider.value,\n",
    "                                             arg, american, call)[0]\n",
    "    return vectorize(func, sigma)"
   ]
  },
  {
   "cell_type": "code",
   "execution_count": 6,
   "id": "a42685f7-31f5-4544-9f50-b56ebbd1af92",
   "metadata": {},
   "outputs": [],
   "source": [
    "def plot_crr(r, S, K, delta_t, T, sigma, domain):\n",
    "    figure, axis = plt.subplots(2, 3) \n",
    "\n",
    "    params = [r, S, K, delta_t, T, sigma]\n",
    "    v_functions = [v_r, v_s, v_k, v_delta_t, v_t, v_sigma]\n",
    "    x_labels = [\"risk-free rate r\", \"spot price $S_0$\", \"strike price K\",\n",
    "               \"time step $\\Delta t$\", \"maturity T\", \"volatility $\\sigma$\"]\n",
    "    \n",
    "    for i in range(len(params)):\n",
    "        param = params[i]\n",
    "        v_func = v_functions[i]\n",
    "        param = np.linspace(domain[0]*param, domain[1]*param)\n",
    "            \n",
    "        V_eu_call = v_func(param, american=False, call=True)\n",
    "        V_eu_put = v_func(param, american=False, call=False)\n",
    "        #V_am_call = v_func(param, american=True, call=True) AM CALL = EU CALL\n",
    "        V_am_put = v_func(param, american=True, call=False)\n",
    "    \n",
    "        axis[i%2, (i)%3].plot(param, V_eu_call, color=\"blue\")\n",
    "        axis[i%2, (i)%3].plot(param, V_eu_put, color=\"red\")\n",
    "        #axis[i%2, (i)%3].plot(param, V_am_call, color=\"blue\")\n",
    "        axis[i%2, (i)%3].plot(param, V_am_put, color=\"red\", linestyle=\"dashed\")\n",
    "    \n",
    "        axis[i%2, (i)%3].set_xlabel(x_labels[i])\n",
    "        axis[i%2, (i)%3].set_ylabel(\"Option value V\")\n",
    "        axis[i%2, (i)%3].legend([\"EU=AM call\", \"EU put\", \"AM put\"])\n",
    "\n",
    "    plt.plot()"
   ]
  },
  {
   "cell_type": "code",
   "execution_count": 7,
   "id": "09ddba65-5669-4426-a4c2-357963d3ff4f",
   "metadata": {},
   "outputs": [
    {
     "data": {
      "application/vnd.jupyter.widget-view+json": {
       "model_id": "bf87e3205cdf4fcc8afaa2bee380bc9d",
       "version_major": 2,
       "version_minor": 0
      },
      "text/plain": [
       "interactive(children=(FloatSlider(value=0.02, description='Risk-free rate:', max=0.25, step=0.01), FloatSlider…"
      ]
     },
     "metadata": {},
     "output_type": "display_data"
    }
   ],
   "source": [
    "interact(plot_crr, r=r_slider, S=S_slider, K=K_slider, delta_t=delta_t_slider, T=T_slider, sigma=sigma_slider, domain=domain_range_slider)\n",
    "plt.rcParams['figure.figsize'] = [15, 10]"
   ]
  },
  {
   "cell_type": "markdown",
   "id": "b452241f-1aab-4031-ab98-6dd328f28ee1",
   "metadata": {},
   "source": [
    "# Analysis\n",
    "First conclusion, american put has always higher price.\n",
    "\n",
    "Second conclusion, price of an american and european call are always the same. Quick proof.\n",
    "\n",
    "Price function of time parameters is bumpy. Is it because there is integer number of steps in the tree?\n",
    "\n",
    "Test out limit of domain, like r=0"
   ]
  }
 ],
 "metadata": {
  "kernelspec": {
   "display_name": "Python 3 (ipykernel)",
   "language": "python",
   "name": "python3"
  },
  "language_info": {
   "codemirror_mode": {
    "name": "ipython",
    "version": 3
   },
   "file_extension": ".py",
   "mimetype": "text/x-python",
   "name": "python",
   "nbconvert_exporter": "python",
   "pygments_lexer": "ipython3",
   "version": "3.10.12"
  }
 },
 "nbformat": 4,
 "nbformat_minor": 5
}
